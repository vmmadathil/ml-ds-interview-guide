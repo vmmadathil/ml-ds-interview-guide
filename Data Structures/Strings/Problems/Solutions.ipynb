{
 "metadata": {
  "language_info": {
   "codemirror_mode": {
    "name": "ipython",
    "version": 3
   },
   "file_extension": ".py",
   "mimetype": "text/x-python",
   "name": "python",
   "nbconvert_exporter": "python",
   "pygments_lexer": "ipython3",
   "version": 3
  },
  "orig_nbformat": 4
 },
 "nbformat": 4,
 "nbformat_minor": 2,
 "cells": [
  {
   "source": [
    "## String Problems"
   ],
   "cell_type": "markdown",
   "metadata": {}
  },
  {
   "source": [
    "### Valid Palindrome\n",
    "\n",
    "Given a string s, determine if it is a palindrome, considering only alphanumeric characters and ignoring cases."
   ],
   "cell_type": "markdown",
   "metadata": {}
  },
  {
   "cell_type": "code",
   "execution_count": null,
   "metadata": {},
   "outputs": [],
   "source": [
    "import re\n",
    "\n",
    "class Solution:\n",
    "    def isPalindrome(self, s: str) -> bool:\n",
    "        s = s.lower()\n",
    "        s = re.sub(r'[^a-z0-9]', '', s)\n",
    "        s = s.replace(' ', '')\n",
    "        \n",
    "        l = 0\n",
    "        r = len(s) - 1\n",
    "        \n",
    "        while l < r:\n",
    "            if s[l] == s[r]:\n",
    "                l = l + 1\n",
    "                r = r - 1\n",
    "            else:\n",
    "                return False\n",
    "        \n",
    "        return True"
   ]
  },
  {
   "source": [
    "Essentially have a left and right pointer. Make them come inward in the two values are equal. If they are not, then it is not a palindrome."
   ],
   "cell_type": "markdown",
   "metadata": {}
  }
 ]
}