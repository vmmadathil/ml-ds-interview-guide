{
 "metadata": {
  "language_info": {
   "codemirror_mode": {
    "name": "ipython",
    "version": 3
   },
   "file_extension": ".py",
   "mimetype": "text/x-python",
   "name": "python",
   "nbconvert_exporter": "python",
   "pygments_lexer": "ipython3",
   "version": 3
  },
  "orig_nbformat": 4
 },
 "nbformat": 4,
 "nbformat_minor": 2,
 "cells": [
  {
   "source": [
    "## Linked List Problems"
   ],
   "cell_type": "markdown",
   "metadata": {}
  },
  {
   "source": [
    "### Linked List Cycle\n",
    "Given head, the head of a linked list, determine if the linked list has a cycle in it.\n",
    "\n",
    "There is a cycle in a linked list if there is some node in the list that can be reached again by continuously following the next pointer."
   ],
   "cell_type": "markdown",
   "metadata": {}
  },
  {
   "cell_type": "code",
   "execution_count": null,
   "metadata": {},
   "outputs": [],
   "source": [
    "# Definition for singly-linked list.\n",
    "# class ListNode:\n",
    "#     def __init__(self, x):\n",
    "#         self.val = x\n",
    "#         self.next = None\n",
    "\n",
    "class Solution:\n",
    "    def hasCycle(self, head: ListNode) -> bool:\n",
    "        \n",
    "        fast = head\n",
    "        slow = head\n",
    "        \n",
    "        while fast != None and fast.next != None:\n",
    "            slow = slow.next\n",
    "            fast = fast.next.next\n",
    "            \n",
    "            if slow == fast:\n",
    "                return True\n",
    "        \n",
    "        return False"
   ]
  },
  {
   "source": [
    "#### Solution\n",
    "\n",
    "Suppose there are two pointers. One pointer moves fast by two steps at a time and the other moves one step at a time:\n",
    "\n",
    "1: |sf--------|\n",
    "\n",
    "2: |-s-f------|\n",
    "\n",
    "3: |--s--f----|\n",
    "\n",
    "4: |---s---f--|\n",
    "\n",
    "5: |----s----f|\n",
    "\n",
    "If the List is circular, the two pointers will meet eventually:\n",
    "\n",
    "6: |--f---s---|\n",
    "\n",
    "7: |----f--s--| x\n",
    "\n",
    "8: |------f-s-|\n",
    "\n",
    "9: |--------fs|\n",
    "\n",
    "10: s == f"
   ],
   "cell_type": "markdown",
   "metadata": {}
  }
 ]
}